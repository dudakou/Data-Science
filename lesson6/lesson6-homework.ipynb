{
 "cells": [
  {
   "cell_type": "markdown",
   "metadata": {},
   "source": [
    "# Задание урока 6"
   ]
  },
  {
   "cell_type": "code",
   "execution_count": 215,
   "metadata": {},
   "outputs": [],
   "source": [
    "import math"
   ]
  },
  {
   "cell_type": "markdown",
   "metadata": {},
   "source": [
    "## Задание 1\n",
    "В  этом  небольшом  задании  вам  дается  строка  чисел,  разделенных  пробелами, \n",
    "и  вы  должны  вернуть  наибольшее  и  наименьшее  число."
   ]
  },
  {
   "cell_type": "code",
   "execution_count": 198,
   "metadata": {},
   "outputs": [],
   "source": [
    "def minmax(numbers):\n",
    "    current_int = ''\n",
    "    all_int_list = []\n",
    "    for i in numbers:\n",
    "        if i != ' ':\n",
    "            current_int += i\n",
    "        elif current_int != '':\n",
    "            all_int_list.append(int(current_int))\n",
    "            current_int = ''\n",
    "    if current_int != '':\n",
    "        all_int_list.append(int(current_int))\n",
    "    if all_int_list != []:\n",
    "        high = low = all_int_list[0]\n",
    "    for i in all_int_list:\n",
    "        if i > high:\n",
    "            high = i\n",
    "        if i < low:\n",
    "            low = i\n",
    "    print(f'Наибольшее число из списка: {high}')\n",
    "    print(f'Наименьшее число из списка: {low}')"
   ]
  },
  {
   "cell_type": "code",
   "execution_count": 199,
   "metadata": {},
   "outputs": [
    {
     "name": "stdout",
     "output_type": "stream",
     "text": [
      "Наибольшее число из списка: 810\n",
      "Наименьшее число из списка: 0\n"
     ]
    }
   ],
   "source": [
    "numbers = '1 3 6 8 9 10 11 0 130 19 810'\n",
    "minmax(numbers)"
   ]
  },
  {
   "cell_type": "markdown",
   "metadata": {},
   "source": [
    "## Задание 2\n",
    "Банкоматы  допускают  использование  4-  или  6-значных  PIN-кодов,  а  PIN-коды  не \n",
    "могут  содержать  ничего,  кроме  ровно  4  или  ровно  6  цифр.  Если  функции\n",
    "передана  действительная  строка  PIN-кода,  return  true,  иначе  return  false."
   ]
  },
  {
   "cell_type": "code",
   "execution_count": 200,
   "metadata": {},
   "outputs": [],
   "source": [
    "def atm(pin):\n",
    "    list_pin = []\n",
    "    try:\n",
    "        int(pin)\n",
    "        for i in pin:\n",
    "            list_pin.append(int(i))\n",
    "        if len(list_pin) == 4 or len(list_pin) == 6:\n",
    "            print('True')\n",
    "        else:\n",
    "            print('False')        \n",
    "    except ValueError:\n",
    "        return False\n",
    " "
   ]
  },
  {
   "cell_type": "code",
   "execution_count": 205,
   "metadata": {},
   "outputs": [
    {
     "name": "stdout",
     "output_type": "stream",
     "text": [
      "True\n"
     ]
    }
   ],
   "source": [
    "atm('4344')"
   ]
  },
  {
   "cell_type": "markdown",
   "metadata": {},
   "source": [
    "## Задание 3\n",
    "Учитывая  целое  число,  определите,  является  ли  оно  квадратным  :  В\n",
    "математике  квадратное  число  или  идеальный  квадрат  —  это  целое  число, \n",
    "которое  является  квадратом  целого  числа;  другими  словами,  это\n",
    "произведение  некоторого  целого  числа  само  на  себя.  На  вход  список,  на \n",
    "выходе  список  чисел"
   ]
  },
  {
   "cell_type": "code",
   "execution_count": 49,
   "metadata": {},
   "outputs": [],
   "source": [
    "list_square_num = []\n",
    "def square_number(list_num):\n",
    "    for i in list_num:\n",
    "        n = math.sqrt(i)\n",
    "        if int(n) ** 2 == i:\n",
    "            list_square_num.append(i)   \n",
    "    return list_square_num"
   ]
  },
  {
   "cell_type": "code",
   "execution_count": 50,
   "metadata": {},
   "outputs": [
    {
     "data": {
      "text/plain": [
       "[1, 4, 9, 16, 25, 100]"
      ]
     },
     "execution_count": 50,
     "metadata": {},
     "output_type": "execute_result"
    }
   ],
   "source": [
    "list_num = [1, 2, 3, 4, 8, 9, 16, 21, 24, 25, 100]\n",
    "square_number(list_num)"
   ]
  },
  {
   "cell_type": "markdown",
   "metadata": {},
   "source": [
    "## Задание 4\n",
    "Реализуйте  функцию  unique_in_order,  которая  принимает  в  качестве  аргумента \n",
    "последовательность  и  возвращает  список  элементов  без  каких-либо  элементов \n",
    "с  одинаковым  значением  рядом  друг  с  другом  и  сохраняет  исходный  порядок \n",
    "элементов."
   ]
  },
  {
   "cell_type": "code",
   "execution_count": 55,
   "metadata": {},
   "outputs": [],
   "source": [
    "def unique_in_order(elements):\n",
    "    unique_list = []\n",
    "    prev_elem = None\n",
    "    for i in elements:\n",
    "        if i != prev_elem or prev_elem == None:\n",
    "            unique_list.append(i)\n",
    "            prev_elem = i\n",
    "        elif i == prev_elem:\n",
    "            continue\n",
    "    return unique_list"
   ]
  },
  {
   "cell_type": "code",
   "execution_count": 56,
   "metadata": {},
   "outputs": [
    {
     "data": {
      "text/plain": [
       "[1, 2, 'e', 'h', 5, 7, 'a', 8, 9, 8, 10]"
      ]
     },
     "execution_count": 56,
     "metadata": {},
     "output_type": "execute_result"
    }
   ],
   "source": [
    "elements = [1, 2, 2, 'e', 'h', 'h', 5, 7, 'a', 'a', 8, 9, 8, 8, 10]\n",
    "unique_in_order(elements)"
   ]
  },
  {
   "cell_type": "markdown",
   "metadata": {},
   "source": [
    "## Задание 5\n",
    "Просто,  учитывая  строку  слов,  верните  длину  самого  короткого  слова  (слов). \n",
    "Строка  никогда  не  будет  пустой,  и  вам  не  нужно  учитывать  разные  типы  данных."
   ]
  },
  {
   "cell_type": "code",
   "execution_count": 85,
   "metadata": {},
   "outputs": [],
   "source": [
    "def short_long(str_words):\n",
    "    separators = [' ', '!', ',', '.', '-', '?', ':', ';', '—']\n",
    "    words = []\n",
    "    current_word = ''\n",
    "    min_length = 20\n",
    "    shortest_words = []\n",
    "    max_length = 1\n",
    "    longest_words = []\n",
    "    for i in str_words:\n",
    "        if i not in separators:\n",
    "            current_word += i\n",
    "        elif current_word != '':\n",
    "            words.append(current_word)\n",
    "            current_word = ''\n",
    "    if current_word != '':\n",
    "        words.append(current_word)\n",
    "    for i in words:\n",
    "        if len(i) < min_length and len(i) > 1:\n",
    "            min_length = len(i)\n",
    "            shortest_words.clear()\n",
    "            shortest_words.append(i)\n",
    "        elif len(i) == min_length and len(i) > 1:\n",
    "            shortest_words.append(i)\n",
    "    print(f'Самые короткие слова: {shortest_words}. Они состоят из {min_length} символов')\n",
    "    for i in words:\n",
    "        if len(i) > max_length:\n",
    "            max_length = len(i)\n",
    "            longest_words.clear()\n",
    "            longest_words.append(i)\n",
    "        elif len(i) == max_length:\n",
    "            longest_words.append(i)\n",
    "    print(f'Самые длинные слова: {longest_words}. Они состоят из {max_length} символов')"
   ]
  },
  {
   "cell_type": "code",
   "execution_count": 88,
   "metadata": {},
   "outputs": [
    {
     "name": "stdout",
     "output_type": "stream",
     "text": [
      "Самые короткие слова: ['год', 'дня']. Они состоят из 3 символов\n",
      "Самые длинные слова: ['календарный', 'наступающий']. Они состоят из 11 символов\n"
     ]
    }
   ],
   "source": [
    "str_words = 'Новый год — главный календарный праздник, наступающий в момент перехода с последнего дня текущего года в первый день следующего года.'\n",
    "short_long(str_words)"
   ]
  },
  {
   "cell_type": "markdown",
   "metadata": {},
   "source": [
    "## Задание 6\n",
    "Цифровой  корень  —  это  рекурсивная  сумма  всех  цифр  числа.  Учитывая  n, \n",
    "возьмите  сумму  цифр  n.  Если  это  значение  имеет  более  одной  цифры,\n",
    "продолжайте  уменьшать  таким  образом,  пока  не  получите  однозначное  число. \n",
    "Входные  данные  будут  неотрицательным  целым  числом."
   ]
  },
  {
   "cell_type": "code",
   "execution_count": 124,
   "metadata": {},
   "outputs": [],
   "source": [
    "def digital_root(int_number, original_int=None):\n",
    "    if original_int is None:\n",
    "        original_int = int_number    \n",
    "    digits = []\n",
    "    sum = 0\n",
    "    for i in str(int_number):\n",
    "        digits.append(int(i))\n",
    "    for i in digits:\n",
    "        sum += i\n",
    "    if sum >= 0 and sum <= 9:\n",
    "        print(f'Цифровой корень числа {original_int} = {sum}')\n",
    "    else:\n",
    "        return digital_root(sum, original_int)"
   ]
  },
  {
   "cell_type": "code",
   "execution_count": 126,
   "metadata": {},
   "outputs": [
    {
     "name": "stdout",
     "output_type": "stream",
     "text": [
      "Цифровой корень числа 1367 = 8\n"
     ]
    }
   ],
   "source": [
    "int_number = 1367\n",
    "digital_root(int_number)"
   ]
  },
  {
   "cell_type": "markdown",
   "metadata": {},
   "source": [
    "## Задание 7\n",
    "Вам  будет  предоставлено  слово.  Ваша  задача  —  вернуть  средний  символ\n",
    "слова.  Если  длина  слова  нечетная,  верните  средний  символ.  Если  длина  слова \n",
    "четная,  верните  2  средних  символа."
   ]
  },
  {
   "cell_type": "code",
   "execution_count": 152,
   "metadata": {},
   "outputs": [],
   "source": [
    "def middle_elem(word):\n",
    "    if len(word) % 2 != 0:\n",
    "        middle_uneven_elem = word[int(len(word) / 2)]\n",
    "        print(f'Средний символ слова {word} - {middle_uneven_elem}')\n",
    "    else:\n",
    "        middle_even_elem = word[int(len(word) / 2) - 1] + word[int(len(word) / 2)]\n",
    "        print(f'Средние символы слова {word} - {middle_even_elem}')"
   ]
  },
  {
   "cell_type": "code",
   "execution_count": 157,
   "metadata": {},
   "outputs": [
    {
     "name": "stdout",
     "output_type": "stream",
     "text": [
      "Средний символ слова Архитектура - е\n"
     ]
    }
   ],
   "source": [
    "word = 'Архитектура'\n",
    "middle_elem(word)"
   ]
  },
  {
   "cell_type": "markdown",
   "metadata": {},
   "source": [
    "## Задание 8\n",
    "Определите  функцию,  которая  принимает  целочисленный  аргумент  и\n",
    "возвращает  логическое  значение  true или  false в  зависимости  от  того,  является \n",
    "ли  целое  число  простым."
   ]
  },
  {
   "cell_type": "code",
   "execution_count": 164,
   "metadata": {},
   "outputs": [],
   "source": [
    "def simple(int_arg):\n",
    "    if int_arg <= 1:\n",
    "        return False\n",
    "    if int_arg <= 3:\n",
    "        return True\n",
    "    if int_arg % 2 == 0 or int_arg % 3 == 0:\n",
    "        return False\n",
    "    i = 5\n",
    "    while i * i <= int_arg:\n",
    "        if int_arg % i == 0 or int_arg % (i+2) == 0:\n",
    "            return False\n",
    "        i += 6\n",
    "    return True"
   ]
  },
  {
   "cell_type": "code",
   "execution_count": 166,
   "metadata": {},
   "outputs": [
    {
     "data": {
      "text/plain": [
       "True"
      ]
     },
     "execution_count": 166,
     "metadata": {},
     "output_type": "execute_result"
    }
   ],
   "source": [
    "int_arg = 17\n",
    "simple(int_arg)"
   ]
  },
  {
   "cell_type": "markdown",
   "metadata": {},
   "source": [
    "## Задание 9\n",
    "Учитывая  список  целых  чисел,  определите,  является  ли  сумма  его  элементов \n",
    "нечетной  или  четной."
   ]
  },
  {
   "cell_type": "code",
   "execution_count": 176,
   "metadata": {},
   "outputs": [],
   "source": [
    "def even_uneven(lst_int, sum_elem = 0):\n",
    "    for i in lst_int:\n",
    "        sum_elem += i\n",
    "    if sum_elem % 2 == 0:\n",
    "        print(f'Сумма целых чисел = {sum_elem}. Сумма является четной')\n",
    "    else:\n",
    "        print(f'Сумма целых чисел = {sum_elem}. Сумма является нечетной')"
   ]
  },
  {
   "cell_type": "code",
   "execution_count": 178,
   "metadata": {},
   "outputs": [
    {
     "name": "stdout",
     "output_type": "stream",
     "text": [
      "Сумма целых чисел = 144. Сумма является четной\n"
     ]
    }
   ],
   "source": [
    "lst_int = [-1, -28, 0, 1, 2, 3, 4, 6, 8, 9, 10, 130]\n",
    "even_uneven(lst_int)"
   ]
  }
 ],
 "metadata": {
  "kernelspec": {
   "display_name": "base",
   "language": "python",
   "name": "python3"
  },
  "language_info": {
   "codemirror_mode": {
    "name": "ipython",
    "version": 3
   },
   "file_extension": ".py",
   "mimetype": "text/x-python",
   "name": "python",
   "nbconvert_exporter": "python",
   "pygments_lexer": "ipython3",
   "version": "3.11.7"
  }
 },
 "nbformat": 4,
 "nbformat_minor": 2
}
